{
 "cells": [
  {
   "cell_type": "markdown",
   "metadata": {},
   "source": [
    "# Segmentation and Binary Images"
   ]
  },
  {
   "cell_type": "code",
   "execution_count": 1,
   "metadata": {},
   "outputs": [],
   "source": [
    "import cv2\n",
    "import numpy as np\n",
    "import random"
   ]
  },
  {
   "cell_type": "code",
   "execution_count": null,
   "metadata": {},
   "outputs": [],
   "source": [
    "bw = cv2.imread('detect_blob.png', 0) #load a b/w image\n",
    "height, width = bw.shape[0:2]\n",
    "cv2.imshow(\"Original BW\", bw)\n",
    "\n",
    "binary = np.zeros([height, width,1], 'uint8')\n",
    "\n",
    "#setting a threshold\n",
    "\n",
    "thresh = 85\n",
    "\n",
    "for row in range(0,height):\n",
    "    for col in range(0, width):\n",
    "        if bw[row][col] >thresh:\n",
    "            binary[row][col]=255\n",
    "\n",
    "cv2.imshow(\"Slow Binary\", binary)\n",
    "\n",
    "ret, thresh = cv2.threshold(bw, thresh, 255, cv2.THRESH_BINARY)\n",
    "cv2.imshow(\"CV Thershold\", thresh)\n",
    "\n",
    "\n",
    "cv2.waitKey(0)\n",
    "cv2.destroyAllWindows()\n",
    "\n",
    "\n",
    "\n",
    "\n"
   ]
  },
  {
   "cell_type": "markdown",
   "metadata": {},
   "source": [
    "# Adaptive Thesholding"
   ]
  },
  {
   "cell_type": "code",
   "execution_count": 1,
   "metadata": {},
   "outputs": [],
   "source": [
    "import cv2\n",
    "import numpy as np\n",
    "\n",
    "img = cv2.imread('sudoku.png',0)\n",
    "\n",
    "\n",
    "cv2.imshow(\"Original\", img)\n",
    "\n",
    "ret, thresh_basic = cv2.threshold(img, 70, 255,cv2.THRESH_BINARY)\n",
    "cv2.imshow(\"Basic Binary\", thresh_basic)\n",
    "\n",
    "thresh_adapt = cv2.adaptiveThreshold(img, 255, cv2.ADAPTIVE_THRESH_GAUSSIAN_C, cv2.THRESH_BINARY, 115, 1)\n",
    "cv2.imshow(\"Adaptive Threshold\", thresh_adapt)\n",
    "\n",
    "\n",
    "cv2.waitKey(0)\n",
    "cv2.destroyAllWindows()"
   ]
  },
  {
   "cell_type": "markdown",
   "metadata": {},
   "source": [
    "# Skin Detection"
   ]
  },
  {
   "cell_type": "code",
   "execution_count": 23,
   "metadata": {},
   "outputs": [
    {
     "name": "stdout",
     "output_type": "stream",
     "text": [
      "[[  2   7]\n",
      " [  9 100]]\n"
     ]
    }
   ],
   "source": [
    "abc = np.array([[[2,5,6], [7,8,9]], [[9,7,0], [100,500,789]]])\n",
    "xyz = np.array([2,5,6])\n",
    "\n",
    "# print(abc.shape)\n",
    "# print(abc[0][0], abc[1][0], abc[2][0])\n",
    "# print(type(abc[:,0]))\n",
    "print(abc[:,:,0])"
   ]
  },
  {
   "cell_type": "code",
   "execution_count": 3,
   "metadata": {},
   "outputs": [],
   "source": [
    "img = cv2.imread(\"faces.jpeg\", 1)\n",
    "hsv = cv2.cvtColor(img, cv2.COLOR_BGR2HSV)\n",
    "\n",
    "# print(type(hsv), hsv.shape)\n",
    "h = hsv[:,:,0]\n",
    "s = hsv[:,:,1]\n",
    "v = hsv[:,:,2]\n",
    "\n",
    "hsv_split = np.concatenate((h,s,v), axis=1)\n",
    "cv2.imshow(\"Split HSV\", hsv_split)\n",
    "\n",
    "ret, min_sat = cv2.threshold(s,40, 255, cv2.THRESH_BINARY)\n",
    "cv2.imshow(\"Sat Filter\", min_sat)\n",
    "\n",
    "\n",
    "ret, max_hue = cv2.threshold(h, 15, 255, cv2.THRESH_BINARY_INV)\n",
    "cv2.imshow(\"Hue Filter\", max_hue)\n",
    "\n",
    "final = cv2.bitwise_and(min_sat,max_hue)\n",
    "cv2.imshow(\"Final\", final)\n",
    "cv2.imshow(\"Original\", img)\n",
    "\n",
    "cv2.waitKey(0)\n",
    "cv2.destroyAllWindows()"
   ]
  },
  {
   "cell_type": "markdown",
   "metadata": {},
   "source": [
    "# Contours\n",
    "\n",
    "## Area, Perimeter, Center and Curvature"
   ]
  },
  {
   "cell_type": "code",
   "execution_count": 2,
   "metadata": {},
   "outputs": [
    {
     "name": "stdout",
     "output_type": "stream",
     "text": [
      "Area: 86.5, perimeter: 45.55634891986847\n",
      "Area: 959.5, perimeter: 251.8406196832657\n",
      "Area: 13091.5, perimeter: 754.0416301488876\n",
      "Area: 10069.5, perimeter: 401.41421353816986\n",
      "Area: 7780.0, perimeter: 329.22034430503845\n",
      "Area: 4160.0, perimeter: 258.0\n",
      "Area: 1672.0, perimeter: 160.48528122901917\n",
      "Area: 14515.0, perimeter: 1225.768675327301\n",
      "Area: 6357.0, perimeter: 446.9116872549057\n",
      "Area: 7718.0, perimeter: 484.8284270763397\n",
      "Area: 4592.5, perimeter: 502.0315263271332\n",
      "Area: 5014.0, perimeter: 357.2792183160782\n",
      "Area: 5019.0, perimeter: 444.3675308227539\n",
      "Area: 8829.0, perimeter: 450.5929263830185\n",
      "Area: 108.0, perimeter: 41.79898953437805\n",
      "Area: 551.5, perimeter: 93.41421353816986\n",
      "Area: 2707.5, perimeter: 194.75230765342712\n",
      "Area: 1644.5, perimeter: 152.1248904466629\n",
      "Area: 767.0, perimeter: 105.74011433124542\n",
      "Area: 3501.5, perimeter: 251.0710676908493\n",
      "Area: 8556.0, perimeter: 345.70562493801117\n",
      "Area: 8868.0, perimeter: 378.8284270763397\n",
      "Area: 865.0, perimeter: 185.4558435678482\n",
      "Area: 1482.0, perimeter: 244.16652035713196\n",
      "Area: 747.0, perimeter: 102.9116872549057\n",
      "Area: 1638.0, perimeter: 152.36753034591675\n",
      "Area: 1.0, perimeter: 4114.82842707634\n"
     ]
    }
   ],
   "source": [
    "img = cv2.imread('detect_blob.png', 1)\n",
    "gray = cv2.cvtColor(img, cv2.COLOR_RGB2GRAY)\n",
    "\n",
    "thresh = cv2.adaptiveThreshold(gray, 255, cv2.ADAPTIVE_THRESH_GAUSSIAN_C, cv2.THRESH_BINARY, 115, 1)\n",
    "\n",
    "cv2.imshow(\"Binary\", thresh)\n",
    "\n",
    "#Contours command\n",
    "#contours - actual list of individual contours, hierarchy - parent-child relationship of contours\n",
    "contours, hierarchy = cv2.findContours(thresh, cv2.RETR_TREE, cv2.CHAIN_APPROX_SIMPLE)\n",
    "\n",
    "img2 = img.copy() #deep copy\n",
    "index = -1\n",
    "thickness = 4\n",
    "color = (255, 0, 255)\n",
    "\n",
    "objects = np.zeros([img.shape[0], img.shape[1], 3], 'uint8')\n",
    "for c in contours:\n",
    "    cv2.drawContours(objects, [c], -1, color, -1)\n",
    "    #getting information (area in pixel square)\n",
    "    #True means arc is a closed contour\n",
    "    area = cv2.contourArea(c)  \n",
    "    perimeter = cv2.arcLength(c, True)\n",
    "    \n",
    "    #Image moments help you to calculate some features like center of mass of the object, area of the object etc.\n",
    "    #4 is the radius and (0,0,255) is for red color and -1 is to fill the circle\n",
    "    M = cv2.moments(c)\n",
    "    cx = int(M['m10']/M['m00'])\n",
    "    cy = int(M['m01']/M['m00'])\n",
    "    cv2.circle(objects, (cx,cy), 4, (0,0,255), -1)\n",
    "\n",
    "    print(\"Area: {}, perimeter: {}\".format(area, perimeter))\n",
    "    \n",
    "cv2.imshow(\"Contours\", objects)\n",
    "\n",
    "# cv2.drawContours(img, contours, index, color, thickness)\n",
    "# cv2.imshow(\"Contours\", img2)\n",
    "\n",
    "cv2.waitKey(0)\n",
    "cv2.destroyAllWindows()"
   ]
  },
  {
   "cell_type": "markdown",
   "metadata": {},
   "source": [
    "# Canny Edge Detection"
   ]
  },
  {
   "cell_type": "code",
   "execution_count": 2,
   "metadata": {},
   "outputs": [],
   "source": [
    "img = cv2.imread(\"tomatoes.jpg\", 1)\n",
    "\n",
    "# Performing a threshold on the image,\n",
    "hsv = cv2.cvtColor(img, cv2.COLOR_BGR2HSV)\n",
    "res, thresh = cv2.threshold(hsv[:,:,0], 25, 255, cv2.THRESH_BINARY_INV)\n",
    "cv2.imshow(\"Thresh\", thresh)\n",
    "\n",
    "#This method could not help us to identify the the tomatoes separately, \n",
    "#canny edge can help us here to get the more detailed information\n",
    "\n",
    "edges = cv2.Canny(img, 100, 70)\n",
    "cv2.imshow(\"Canny\", edges)\n",
    "\n",
    "cv2.waitKey(0)\n",
    "cv2.destroyAllWindows()"
   ]
  },
  {
   "cell_type": "markdown",
   "metadata": {},
   "source": [
    "# Assign Object IDs and Attributes\n",
    "\n",
    "\n",
    "Identify all objects in the image, segment them out, draw them on a blank image, and print the perimeter and area.\n",
    "Only draw large objects (area of greater than 1,000 px2).\n",
    "Each object should be drawn with its own color(it doesn't need to match the source image color)."
   ]
  },
  {
   "cell_type": "code",
   "execution_count": 2,
   "metadata": {},
   "outputs": [
    {
     "name": "stdout",
     "output_type": "stream",
     "text": [
      "2054\n",
      "4\n",
      "Area: 4926.0, perimeter: 298.2253956794739\n",
      "Area: 29882.0, perimeter: 795.3868639469147\n",
      "Area: 1038.0, perimeter: 645.0681030750275\n",
      "Area: 17250.0, perimeter: 585.0782079696655\n"
     ]
    }
   ],
   "source": [
    "img = cv2.imread(\"images/fuzzy.png\", 1)\n",
    "cv2.imshow(\"Original\", img)\n",
    "\n",
    "gray = cv2.cvtColor(img, cv2.COLOR_BGR2GRAY)\n",
    "blur = cv2.GaussianBlur(gray, (3,3), 0)\n",
    "\n",
    "#we choose inverse because foreground of the image is white\n",
    "thresh = cv2.adaptiveThreshold(blur, 255, cv2.ADAPTIVE_THRESH_GAUSSIAN_C, cv2.THRESH_BINARY_INV, 205, 1)\n",
    "cv2.imshow(\"Binary\", thresh)\n",
    "\n",
    "\n",
    "contours, _ = cv2.findContours(thresh, cv2.RETR_TREE, cv2.CHAIN_APPROX_SIMPLE)\n",
    "print(len(contours))\n",
    "\n",
    "# Ensure we only draw large contours\n",
    "\n",
    "filtered = []\n",
    "\n",
    "for c in contours:\n",
    "    if cv2.contourArea(c) < 1000:\n",
    "        continue\n",
    "    filtered.append(c)\n",
    "    \n",
    "print(len(filtered))\n",
    "\n",
    "# drwaing contours\n",
    "objects = np.zeros([img.shape[0], img.shape[1], 3], 'uint8')\n",
    "for c in filtered:\n",
    "    col = (random.randint(0,255), random.randint(0,255), random.randint(0,255))\n",
    "    cv2.drawContours(objects, [c], -1, col, -1)\n",
    "    area = cv2.contourArea(c)  \n",
    "    perimeter = cv2.arcLength(c, True)\n",
    "    print(\"Area: {}, perimeter: {}\".format(area, perimeter))\n",
    "\n",
    "\n",
    "cv2.imshow(\"Contours\", objects)\n",
    "cv2.waitKey(0)\n",
    "cv2.destroyAllWindows()"
   ]
  },
  {
   "cell_type": "code",
   "execution_count": null,
   "metadata": {},
   "outputs": [],
   "source": []
  }
 ],
 "metadata": {
  "kernelspec": {
   "display_name": "Python 3",
   "language": "python",
   "name": "python3"
  },
  "language_info": {
   "codemirror_mode": {
    "name": "ipython",
    "version": 3
   },
   "file_extension": ".py",
   "mimetype": "text/x-python",
   "name": "python",
   "nbconvert_exporter": "python",
   "pygments_lexer": "ipython3",
   "version": "3.8.3"
  },
  "toc-autonumbering": true,
  "toc-showcode": true
 },
 "nbformat": 4,
 "nbformat_minor": 4
}
