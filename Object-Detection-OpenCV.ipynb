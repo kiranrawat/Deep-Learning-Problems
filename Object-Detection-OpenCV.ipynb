{
 "cells": [
  {
   "cell_type": "markdown",
   "metadata": {},
   "source": [
    "# Segmentation and Binary Images"
   ]
  },
  {
   "cell_type": "code",
   "execution_count": 1,
   "metadata": {},
   "outputs": [],
   "source": [
    "import cv2\n",
    "import numpy as np"
   ]
  },
  {
   "cell_type": "code",
   "execution_count": null,
   "metadata": {},
   "outputs": [],
   "source": [
    "bw = cv2.imread('detect_blob.png', 0) #load a b/w image\n",
    "height, width = bw.shape[0:2]\n",
    "cv2.imshow(\"Original BW\", bw)\n",
    "\n",
    "binary = np.zeros([height, width,1], 'uint8')\n",
    "\n",
    "#setting a threshold\n",
    "\n",
    "thresh = 85\n",
    "\n",
    "for row in range(0,height):\n",
    "    for col in range(0, width):\n",
    "        if bw[row][col] >thresh:\n",
    "            binary[row][col]=255\n",
    "\n",
    "cv2.imshow(\"Slow Binary\", binary)\n",
    "\n",
    "ret, thresh = cv2.threshold(bw, thresh, 255, cv2.THRESH_BINARY)\n",
    "cv2.imshow(\"CV Thershold\", thresh)\n",
    "\n",
    "\n",
    "cv2.waitKey(0)\n",
    "cv2.destroyAllWindows()\n",
    "\n",
    "\n",
    "\n",
    "\n"
   ]
  },
  {
   "cell_type": "markdown",
   "metadata": {},
   "source": [
    "# Adaptive Thesholding"
   ]
  },
  {
   "cell_type": "code",
   "execution_count": 1,
   "metadata": {},
   "outputs": [],
   "source": [
    "import cv2\n",
    "import numpy as np\n",
    "\n",
    "img = cv2.imread('sudoku.png',0)\n",
    "\n",
    "\n",
    "cv2.imshow(\"Original\", img)\n",
    "\n",
    "ret, thresh_basic = cv2.threshold(img, 70, 255,cv2.THRESH_BINARY)\n",
    "cv2.imshow(\"Basic Binary\", thresh_basic)\n",
    "\n",
    "thresh_adapt = cv2.adaptiveThreshold(img, 255, cv2.ADAPTIVE_THRESH_GAUSSIAN_C, cv2.THRESH_BINARY, 115, 1)\n",
    "cv2.imshow(\"Adaptive Threshold\", thresh_adapt)\n",
    "\n",
    "\n",
    "cv2.waitKey(0)\n",
    "cv2.destroyAllWindows()"
   ]
  },
  {
   "cell_type": "markdown",
   "metadata": {},
   "source": [
    "# Skin Detection"
   ]
  },
  {
   "cell_type": "code",
   "execution_count": 23,
   "metadata": {},
   "outputs": [
    {
     "name": "stdout",
     "output_type": "stream",
     "text": [
      "[[  2   7]\n",
      " [  9 100]]\n"
     ]
    }
   ],
   "source": [
    "abc = np.array([[[2,5,6], [7,8,9]], [[9,7,0], [100,500,789]]])\n",
    "xyz = np.array([2,5,6])\n",
    "\n",
    "# print(abc.shape)\n",
    "# print(abc[0][0], abc[1][0], abc[2][0])\n",
    "# print(type(abc[:,0]))\n",
    "print(abc[:,:,0])"
   ]
  },
  {
   "cell_type": "code",
   "execution_count": 3,
   "metadata": {},
   "outputs": [],
   "source": [
    "img = cv2.imread(\"faces.jpeg\", 1)\n",
    "hsv = cv2.cvtColor(img, cv2.COLOR_BGR2HSV)\n",
    "\n",
    "# print(type(hsv), hsv.shape)\n",
    "h = hsv[:,:,0]\n",
    "s = hsv[:,:,1]\n",
    "v = hsv[:,:,2]\n",
    "\n",
    "hsv_split = np.concatenate((h,s,v), axis=1)\n",
    "cv2.imshow(\"Split HSV\", hsv_split)\n",
    "\n",
    "ret, min_sat = cv2.threshold(s,40, 255, cv2.THRESH_BINARY)\n",
    "cv2.imshow(\"Sat Filter\", min_sat)\n",
    "\n",
    "\n",
    "ret, max_hue = cv2.threshold(h, 15, 255, cv2.THRESH_BINARY_INV)\n",
    "cv2.imshow(\"Hue Filter\", max_hue)\n",
    "\n",
    "final = cv2.bitwise_and(min_sat,max_hue)\n",
    "cv2.imshow(\"Final\", final)\n",
    "cv2.imshow(\"Original\", img)\n",
    "\n",
    "cv2.waitKey(0)\n",
    "cv2.destroyAllWindows()"
   ]
  },
  {
   "cell_type": "markdown",
   "metadata": {},
   "source": [
    "# Contours"
   ]
  },
  {
   "cell_type": "code",
   "execution_count": 2,
   "metadata": {},
   "outputs": [],
   "source": [
    "img = cv2.imread('detect_blob.png', 1)\n",
    "gray = cv2.cvtColor(img, cv2.COLOR_RGB2GRAY)\n",
    "\n",
    "thresh = cv2.adaptiveThreshold(gray, 255, cv2.ADAPTIVE_THRESH_GAUSSIAN_C, cv2.THRESH_BINARY, 115, 1)\n",
    "\n",
    "cv2.imshow(\"Binary\", thresh)\n",
    "\n",
    "#Contours command\n",
    "#contours - actual list of individual contours, hierarchy - parent-child relationship of contours\n",
    "contours, hierarchy = cv2.findContours(thresh, cv2.RETR_TREE, cv2.CHAIN_APPROX_SIMPLE)\n",
    "\n",
    "img2 = img.copy() #deep copy\n",
    "index = -1\n",
    "thickness = 4\n",
    "color = (255, 0, 255)\n",
    "\n",
    "cv2.drawContours(img, contours, index, color, thickness)\n",
    "cv2.imshow(\"Contours\", img2)\n",
    "\n",
    "cv2.waitKey(0)\n",
    "cv2.destroyAllWindows()"
   ]
  },
  {
   "cell_type": "code",
   "execution_count": null,
   "metadata": {},
   "outputs": [],
   "source": []
  }
 ],
 "metadata": {
  "kernelspec": {
   "display_name": "Python 3",
   "language": "python",
   "name": "python3"
  },
  "language_info": {
   "codemirror_mode": {
    "name": "ipython",
    "version": 3
   },
   "file_extension": ".py",
   "mimetype": "text/x-python",
   "name": "python",
   "nbconvert_exporter": "python",
   "pygments_lexer": "ipython3",
   "version": "3.8.3"
  },
  "toc-autonumbering": false,
  "toc-showcode": true
 },
 "nbformat": 4,
 "nbformat_minor": 4
}
